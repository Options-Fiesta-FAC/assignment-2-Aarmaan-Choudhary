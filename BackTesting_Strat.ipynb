{
  "nbformat": 4,
  "nbformat_minor": 0,
  "metadata": {
    "colab": {
      "provenance": []
    },
    "kernelspec": {
      "name": "python3",
      "display_name": "Python 3"
    },
    "language_info": {
      "name": "python"
    }
  },
  "cells": [
    {
      "cell_type": "code",
      "source": [
        "import yfinance as yf\n",
        "import pandas as pd\n",
        "import matplotlib.pyplot as plt\n",
        "import numpy as np\n",
        "ticker = yf.Ticker(\"INFY\")\n",
        "data=ticker.history(start=\"2022-01-01\",end=\"2024-12-31\",interval=\"1d\")\n",
        "data = data.dropna()\n",
        "data=data.drop(['Dividends','Stock Splits'],axis=1)\n",
        "\n",
        "print(data.head(30))"
      ],
      "metadata": {
        "colab": {
          "base_uri": "https://localhost:8080/"
        },
        "id": "_ms1fPn6P8Lf",
        "outputId": "69cecfb6-77a6-4a4b-88b9-37181a6817c0"
      },
      "execution_count": 1,
      "outputs": [
        {
          "output_type": "stream",
          "name": "stdout",
          "text": [
            "                                Open       High        Low      Close  \\\n",
            "Date                                                                    \n",
            "2022-01-03 00:00:00-05:00  23.443218  23.581718  23.221621  23.323187   \n",
            "2022-01-04 00:00:00-05:00  23.313952  23.424751  23.064653  23.184687   \n",
            "2022-01-05 00:00:00-05:00  22.935385  23.009251  22.390623  22.436789   \n",
            "2022-01-06 00:00:00-05:00  22.344461  22.612225  22.132095  22.261362   \n",
            "2022-01-07 00:00:00-05:00  22.362927  22.501427  22.132095  22.344461   \n",
            "2022-01-10 00:00:00-05:00  22.769192  22.879992  22.556827  22.870758   \n",
            "2022-01-11 00:00:00-05:00  22.972321  23.138519  22.769190  23.101587   \n",
            "2022-01-12 00:00:00-05:00  24.144945  24.366543  23.554018  23.775616   \n",
            "2022-01-13 00:00:00-05:00  23.766380  23.803314  23.517082  23.637115   \n",
            "2022-01-14 00:00:00-05:00  23.747913  24.274210  23.618648  24.191111   \n",
            "2022-01-18 00:00:00-05:00  23.738680  23.794081  23.470917  23.554016   \n",
            "2022-01-19 00:00:00-05:00  23.064653  23.129286  22.575292  22.593758   \n",
            "2022-01-20 00:00:00-05:00  22.464491  22.510657  21.845863  21.864330   \n",
            "2022-01-21 00:00:00-05:00  21.642733  21.947430  21.568867  21.615032   \n",
            "2022-01-24 00:00:00-05:00  21.125671  21.208771  20.285446  21.181072   \n",
            "2022-01-25 00:00:00-05:00  20.922541  21.097973  20.700943  20.756342   \n",
            "2022-01-26 00:00:00-05:00  20.977940  21.088739  20.470112  20.673243   \n",
            "2022-01-27 00:00:00-05:00  20.553209  20.664007  20.054613  20.137712   \n",
            "2022-01-28 00:00:00-05:00  20.451645  20.959475  20.359312  20.922541   \n",
            "2022-01-31 00:00:00-05:00  21.301102  21.799698  21.254936  21.762764   \n",
            "2022-02-01 00:00:00-05:00  21.707367  21.818165  21.458069  21.716600   \n",
            "2022-02-02 00:00:00-05:00  21.910496  22.021296  21.790464  21.947430   \n",
            "2022-02-03 00:00:00-05:00  21.310337  21.476536  20.987173  21.014874   \n",
            "2022-02-04 00:00:00-05:00  21.208771  21.430369  20.922541  21.134905   \n",
            "2022-02-07 00:00:00-05:00  20.941006  21.153370  20.691708  20.747107   \n",
            "2022-02-08 00:00:00-05:00  20.737875  21.208771  20.654777  21.134905   \n",
            "2022-02-09 00:00:00-05:00  21.393434  21.661198  21.328802  21.615032   \n",
            "2022-02-10 00:00:00-05:00  21.282637  21.485769  21.116440  21.181072   \n",
            "2022-02-11 00:00:00-05:00  20.977938  21.024105  20.507042  20.562443   \n",
            "2022-02-14 00:00:00-05:00  20.313147  20.553211  20.211580  20.488579   \n",
            "\n",
            "                             Volume  \n",
            "Date                                 \n",
            "2022-01-03 00:00:00-05:00   4526700  \n",
            "2022-01-04 00:00:00-05:00   8180900  \n",
            "2022-01-05 00:00:00-05:00   8881400  \n",
            "2022-01-06 00:00:00-05:00  11523300  \n",
            "2022-01-07 00:00:00-05:00   6596500  \n",
            "2022-01-10 00:00:00-05:00  10032000  \n",
            "2022-01-11 00:00:00-05:00   9883900  \n",
            "2022-01-12 00:00:00-05:00  15578800  \n",
            "2022-01-13 00:00:00-05:00  20147500  \n",
            "2022-01-14 00:00:00-05:00  11294700  \n",
            "2022-01-18 00:00:00-05:00   6915000  \n",
            "2022-01-19 00:00:00-05:00  13756100  \n",
            "2022-01-20 00:00:00-05:00  19417500  \n",
            "2022-01-21 00:00:00-05:00  13813600  \n",
            "2022-01-24 00:00:00-05:00  18128000  \n",
            "2022-01-25 00:00:00-05:00   9588100  \n",
            "2022-01-26 00:00:00-05:00  11662800  \n",
            "2022-01-27 00:00:00-05:00  17086900  \n",
            "2022-01-28 00:00:00-05:00  15420200  \n",
            "2022-01-31 00:00:00-05:00   5686800  \n",
            "2022-02-01 00:00:00-05:00  10309700  \n",
            "2022-02-02 00:00:00-05:00   9033400  \n",
            "2022-02-03 00:00:00-05:00  12135000  \n",
            "2022-02-04 00:00:00-05:00  18253100  \n",
            "2022-02-07 00:00:00-05:00  15889900  \n",
            "2022-02-08 00:00:00-05:00  21190900  \n",
            "2022-02-09 00:00:00-05:00   7472800  \n",
            "2022-02-10 00:00:00-05:00  10600800  \n",
            "2022-02-11 00:00:00-05:00   7761500  \n",
            "2022-02-14 00:00:00-05:00   6502900  \n"
          ]
        }
      ]
    },
    {
      "cell_type": "code",
      "source": [
        "# MACD\n",
        "def calculate_macd(data, price_col):\n",
        "    short_period = 12\n",
        "    long_period = 26\n",
        "    signal_line_period = 9\n",
        "    ema_short = data[price_col].ewm(span=short_period, adjust=False).mean()\n",
        "    ema_long = data[price_col].ewm(span=long_period, adjust=False).mean()\n",
        "    data['MACD'] = ema_short - ema_long\n",
        "    data['Signal_MACD'] = data['MACD'].ewm(span=signal_line_period, adjust=False).mean()\n",
        "    data['Signals_from_MACD'] = 0\n",
        "    data.loc[data['MACD'] > data['Signal_MACD'], 'Signals_from_MACD'] = 1\n",
        "    data.loc[data['MACD'] < data['Signal_MACD'], 'Signals_from_MACD'] = -1\n",
        "    return data\n",
        "\n",
        "# RSI\n",
        "def calculate_rsi(data, price_col, period=14):\n",
        "    delta = data[price_col].diff()\n",
        "    gain = delta.where(delta > 0, 0)\n",
        "    loss = -delta.where(delta < 0, 0)\n",
        "    avg_gain = gain.rolling(window=period).mean()\n",
        "    avg_loss = loss.rolling(window=period).mean()\n",
        "    rs = avg_gain / avg_loss\n",
        "    data['RSI'] = 100 - (100 / (1 + rs))\n",
        "    data['Signals_from_RSI'] = 0\n",
        "    data.loc[data['RSI'] < 30, 'Signals_from_RSI'] = 1\n",
        "    data.loc[data['RSI'] > 70, 'Signals_from_RSI'] = -1\n",
        "    return data"
      ],
      "metadata": {
        "id": "GSy3vk8sQJwg"
      },
      "execution_count": 2,
      "outputs": []
    },
    {
      "cell_type": "code",
      "source": [
        "def generate_signals(data):\n",
        "    macd_weight = 0.6\n",
        "    rsi_weight = 0.4\n",
        "    data[\"weighted_signal\"] = macd_weight * data[\"Signals_from_MACD\"] + rsi_weight * data[\"Signals_from_RSI\"]\n",
        "    data[\"signal\"] = 0\n",
        "    data[\"signal\"] = np.where(data[\"weighted_signal\"] > 0.5, 1, data[\"signal\"])\n",
        "    data[\"signal\"] = np.where(data[\"weighted_signal\"] < -0.5, -1, data[\"signal\"])\n",
        "    return data"
      ],
      "metadata": {
        "id": "by0RYfJDQfzj"
      },
      "execution_count": 19,
      "outputs": []
    },
    {
      "cell_type": "code",
      "execution_count": 20,
      "metadata": {
        "id": "zzK5kKfZPzBT"
      },
      "outputs": [],
      "source": [
        "def run_strategy(data, price_column, initial_capital=1000):\n",
        "    position = 0\n",
        "    capital = initial_capital\n",
        "    stop_loss_percent = 5\n",
        "    take_profit_percent = 10\n",
        "    no_of_stocks = 0\n",
        "    returns = []\n",
        "    long_short_trades = []\n",
        "\n",
        "    portfolio_values = []   # <-- Track portfolio value over time\n",
        "\n",
        "    start_trade = 0\n",
        "    long_trade_count = 0\n",
        "    short_trade_count = 0\n",
        "\n",
        "    for i in range(len(data)):\n",
        "        price = data[price_column].iloc[i]\n",
        "        signal = data['signal'].iloc[i]\n",
        "        current_position = position\n",
        "\n",
        "        # Update portfolio value based on position\n",
        "        if position == 0:\n",
        "            portfolio_value = capital\n",
        "        elif position == 1:\n",
        "            portfolio_value = capital + no_of_stocks * (price - entry_price)\n",
        "        elif position == -1:\n",
        "            # Short position: capital + profit from price decrease\n",
        "            portfolio_value = capital + no_of_stocks * (entry_price - price)\n",
        "\n",
        "        portfolio_values.append(portfolio_value)\n",
        "\n",
        "        # Entry logic\n",
        "        if position == 0:\n",
        "            if signal == 1:\n",
        "                entry_price = price\n",
        "                no_of_stocks = capital / entry_price\n",
        "                position = 1\n",
        "                long_trade_count += 1\n",
        "            elif signal == -1:\n",
        "                entry_price = price\n",
        "                no_of_stocks = capital / entry_price\n",
        "                position = -1\n",
        "                short_trade_count += 1\n",
        "\n",
        "        # Exit logic\n",
        "        elif position == 1:\n",
        "            if price >= entry_price * (1 + take_profit_percent / 100) or price <= entry_price * (1 - stop_loss_percent / 100) or signal == -1:\n",
        "                ret = (price - entry_price) / entry_price\n",
        "                capital += no_of_stocks * (price - entry_price)\n",
        "                returns.append(ret)\n",
        "                position = 0\n",
        "\n",
        "        elif position == -1:\n",
        "            if price <= entry_price * (1 - stop_loss_percent / 100) or price >= entry_price * (1 + take_profit_percent / 100) or signal == 1:\n",
        "                ret = (entry_price - price) / entry_price\n",
        "                capital += no_of_stocks * (entry_price - price)\n",
        "                returns.append(ret)\n",
        "                position = 0\n",
        "\n",
        "        if current_position != position:\n",
        "            long_short_trades.append(position)\n",
        "            end_trade = i\n",
        "            start_trade = i\n",
        "\n",
        "\n",
        "    # Close any open positions at the end\n",
        "    if position != 0:\n",
        "        final_price = data[price_column].iloc[-1]\n",
        "        if position == 1:\n",
        "            ret = (final_price - entry_price) / entry_price\n",
        "            capital += no_of_stocks * (final_price - entry_price)\n",
        "        elif position == -1:\n",
        "            ret = (entry_price - final_price) / entry_price\n",
        "            capital += no_of_stocks * (entry_price - final_price)\n",
        "        returns.append(ret)\n",
        "        portfolio_values.append(capital)  # Append final portfolio value\n",
        "\n",
        "    returns_array = np.array(returns)\n",
        "    net_capital = capital\n",
        "    total_return_percent = ((net_capital - initial_capital) / initial_capital) * 100\n",
        "    total_trades = long_trade_count + short_trade_count\n",
        "    win_rate = np.sum(returns_array > 0) / len(returns_array) * 100 if len(returns_array) > 0 else 0\n",
        "    drawdowns = np.minimum(returns_array, 0)\n",
        "    avg_drawdown = np.mean(drawdowns) * 100 if len(drawdowns) > 0 else 0\n",
        "    max_drawdown = np.min(drawdowns) * 100 if len(drawdowns) > 0 else 0\n",
        "    mean_return = np.mean(returns_array)\n",
        "    std_return = np.std(returns_array)\n",
        "    sharpe_ratio = (mean_return / std_return) * np.sqrt(252) if std_return != 0 else 0\n",
        "    negative_returns = returns_array[returns_array < 0]\n",
        "    downside_std = np.std(negative_returns)\n",
        "    sortino_ratio = (mean_return / downside_std) * np.sqrt(252) if downside_std != 0 else 0\n",
        "\n",
        "\n",
        "    return {\n",
        "        \"Return %\": total_return_percent,\n",
        "        \"Net Capital\": net_capital,\n",
        "        \"Total Trades\": total_trades,\n",
        "        \"Win Rate %\": win_rate,\n",
        "        \"Total Long Trades\": long_trade_count,\n",
        "        \"Total Short Trades\": short_trade_count,\n",
        "        \"Avg Drawdown %\": avg_drawdown,\n",
        "        \"Max Drawdown %\": max_drawdown,\n",
        "        \"Sharpe Ratio\": sharpe_ratio,\n",
        "        \"Sortino Ratio\": sortino_ratio,\n",
        "        \"Portfolio Values\": portfolio_values  # <-- Return portfolio values\n",
        "    }\n"
      ]
    },
    {
      "cell_type": "code",
      "source": [
        "\n",
        "data = calculate_macd(data, 'Close')\n",
        "data = calculate_rsi(data, 'Close')\n",
        "data = generate_signals(data)\n",
        "metrics = run_strategy(data, price_column='Close')\n",
        "portfolio = metrics[\"Portfolio Values\"]"
      ],
      "metadata": {
        "id": "UuBXjElYQlJ3"
      },
      "execution_count": 21,
      "outputs": []
    },
    {
      "cell_type": "code",
      "source": [
        "metric_data=pd.DataFrame({\"Metrics\": metrics})\n",
        "print(metric_data)\n"
      ],
      "metadata": {
        "colab": {
          "base_uri": "https://localhost:8080/"
        },
        "id": "32qUwBxqRXcd",
        "outputId": "14afe058-f964-43f6-8cc6-d230a946291d"
      },
      "execution_count": 22,
      "outputs": [
        {
          "output_type": "stream",
          "name": "stdout",
          "text": [
            "                                                              Metrics\n",
            "Return %                                                     9.917938\n",
            "Net Capital                                               1099.179384\n",
            "Total Trades                                                       60\n",
            "Win Rate %                                                  46.666667\n",
            "Total Long Trades                                                  30\n",
            "Total Short Trades                                                 30\n",
            "Avg Drawdown %                                              -2.063929\n",
            "Max Drawdown %                                             -10.576924\n",
            "Sharpe Ratio                                                 0.887466\n",
            "Sortino Ratio                                                1.837574\n",
            "Portfolio Values    [1000, 1000, 1032.2582794734183, 1039.82476013...\n"
          ]
        }
      ]
    },
    {
      "cell_type": "code",
      "source": [
        "plt.plot(portfolio)\n",
        "plt.xlabel('Date')\n",
        "plt.ylabel('Portfolio Value')\n",
        "plt.title('Portfolio Value Over Time')\n",
        "plt.show()\n"
      ],
      "metadata": {
        "colab": {
          "base_uri": "https://localhost:8080/",
          "height": 472
        },
        "id": "NtzbXjvaSXro",
        "outputId": "ec492cf3-60ec-4892-917d-67a11b3f958c"
      },
      "execution_count": 25,
      "outputs": [
        {
          "output_type": "display_data",
          "data": {
            "text/plain": [
              "<Figure size 640x480 with 1 Axes>"
            ],
            "image/png": "[encoded data removed]"
          },
          "metadata": {}
        }
      ]
    }
  ]
}